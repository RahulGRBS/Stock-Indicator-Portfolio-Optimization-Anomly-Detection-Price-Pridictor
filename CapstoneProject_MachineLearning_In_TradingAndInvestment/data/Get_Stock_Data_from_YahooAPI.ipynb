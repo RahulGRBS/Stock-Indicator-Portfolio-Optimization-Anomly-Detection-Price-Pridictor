{
 "cells": [
  {
   "cell_type": "code",
   "execution_count": 1,
   "metadata": {},
   "outputs": [
    {
     "name": "stdout",
     "output_type": "stream",
     "text": [
      "Requirement already satisfied: yfinance in /opt/conda/lib/python3.6/site-packages (0.1.55)\n",
      "Requirement already satisfied: pandas>=0.24 in /opt/conda/lib/python3.6/site-packages (from yfinance) (1.1.5)\n",
      "Requirement already satisfied: multitasking>=0.0.7 in /opt/conda/lib/python3.6/site-packages (from yfinance) (0.0.9)\n",
      "Requirement already satisfied: requests>=2.20 in /opt/conda/lib/python3.6/site-packages (from yfinance) (2.25.1)\n",
      "Requirement already satisfied: numpy>=1.15 in /opt/conda/lib/python3.6/site-packages (from yfinance) (1.17.5)\n",
      "Requirement already satisfied: lxml>=4.5.1 in /opt/conda/lib/python3.6/site-packages (from yfinance) (4.6.2)\n",
      "Requirement already satisfied: python-dateutil>=2.7.3 in /opt/conda/lib/python3.6/site-packages (from pandas>=0.24->yfinance) (2.8.1)\n",
      "Requirement already satisfied: pytz>=2017.2 in /opt/conda/lib/python3.6/site-packages (from pandas>=0.24->yfinance) (2017.3)\n",
      "Requirement already satisfied: six>=1.5 in /opt/conda/lib/python3.6/site-packages (from python-dateutil>=2.7.3->pandas>=0.24->yfinance) (1.15.0)\n",
      "Requirement already satisfied: certifi>=2017.4.17 in /opt/conda/lib/python3.6/site-packages (from requests>=2.20->yfinance) (2019.11.28)\n",
      "Requirement already satisfied: chardet<5,>=3.0.2 in /opt/conda/lib/python3.6/site-packages (from requests>=2.20->yfinance) (3.0.4)\n",
      "Requirement already satisfied: idna<3,>=2.5 in /opt/conda/lib/python3.6/site-packages (from requests>=2.20->yfinance) (2.6)\n",
      "Requirement already satisfied: urllib3<1.27,>=1.21.1 in /opt/conda/lib/python3.6/site-packages (from requests>=2.20->yfinance) (1.22)\n",
      "Requirement already satisfied: pandas_datareader in /opt/conda/lib/python3.6/site-packages (0.9.0)\n",
      "Requirement already satisfied: pandas>=0.23 in /opt/conda/lib/python3.6/site-packages (from pandas_datareader) (1.1.5)\n",
      "Requirement already satisfied: lxml in /opt/conda/lib/python3.6/site-packages (from pandas_datareader) (4.6.2)\n",
      "Requirement already satisfied: requests>=2.19.0 in /opt/conda/lib/python3.6/site-packages (from pandas_datareader) (2.25.1)\n",
      "Requirement already satisfied: python-dateutil>=2.7.3 in /opt/conda/lib/python3.6/site-packages (from pandas>=0.23->pandas_datareader) (2.8.1)\n",
      "Requirement already satisfied: numpy>=1.15.4 in /opt/conda/lib/python3.6/site-packages (from pandas>=0.23->pandas_datareader) (1.17.5)\n",
      "Requirement already satisfied: pytz>=2017.2 in /opt/conda/lib/python3.6/site-packages (from pandas>=0.23->pandas_datareader) (2017.3)\n",
      "Requirement already satisfied: six>=1.5 in /opt/conda/lib/python3.6/site-packages (from python-dateutil>=2.7.3->pandas>=0.23->pandas_datareader) (1.15.0)\n",
      "Requirement already satisfied: idna<3,>=2.5 in /opt/conda/lib/python3.6/site-packages (from requests>=2.19.0->pandas_datareader) (2.6)\n",
      "Requirement already satisfied: urllib3<1.27,>=1.21.1 in /opt/conda/lib/python3.6/site-packages (from requests>=2.19.0->pandas_datareader) (1.22)\n",
      "Requirement already satisfied: chardet<5,>=3.0.2 in /opt/conda/lib/python3.6/site-packages (from requests>=2.19.0->pandas_datareader) (3.0.4)\n",
      "Requirement already satisfied: certifi>=2017.4.17 in /opt/conda/lib/python3.6/site-packages (from requests>=2.19.0->pandas_datareader) (2019.11.28)\n"
     ]
    }
   ],
   "source": [
    "### Use Below to read data from Yahoo Finance API\n",
    "\n",
    "#### Run this in terminal console\n",
    "!pip install yfinance --upgrade --no-cache-dir\n",
    "!pip install pandas_datareader"
   ]
  },
  {
   "cell_type": "code",
   "execution_count": 2,
   "metadata": {},
   "outputs": [],
   "source": [
    "# Import packages\n",
    "import datetime\n",
    "import numpy as np\n",
    "import pandas as pd\n",
    "import yfinance as yf\n",
    "from pandas_datareader import data\n",
    "#import fix_yahoo_finance as fyf"
   ]
  },
  {
   "cell_type": "code",
   "execution_count": 3,
   "metadata": {},
   "outputs": [],
   "source": [
    "yf.pdr_override() "
   ]
  },
  {
   "cell_type": "code",
   "execution_count": 4,
   "metadata": {},
   "outputs": [],
   "source": [
    "def get_stockData(symbols,start_date = '2000-01-01',end_date = '2021-01-01'):\n",
    "    # Set date timestamps for historical data download\n",
    "    #end_date = datetime.datetime.now().date()\n",
    "    print(\"start_date and end_date \", start_date, end_date)\n",
    "    print(symbols)\n",
    "\n",
    "    for symbol in symbols:\n",
    "        df = data.get_data_yahoo(symbol, start_date, end_date)\n",
    "        df.to_csv(\"{}.csv\".format(str(symbol)))\n"
   ]
  },
  {
   "cell_type": "code",
   "execution_count": 5,
   "metadata": {},
   "outputs": [
    {
     "name": "stdout",
     "output_type": "stream",
     "text": [
      "start_date and end_date  2000-01-01 2021-01-01\n",
      "['GOOGL']\n",
      "[*********************100%***********************]  1 of 1 completed\n"
     ]
    }
   ],
   "source": [
    "# Choose stock symbols to read\n",
    "symbols = ['AAPL','GOOG', 'IBM', 'GLD','SPY','XOM','X','JPM','AMZN','AXY','FB']\n",
    "\n",
    "\n",
    "get_stockData(symbols)"
   ]
  },
  {
   "cell_type": "code",
   "execution_count": 6,
   "metadata": {},
   "outputs": [
    {
     "name": "stdout",
     "output_type": "stream",
     "text": [
      "[*********************100%***********************]  1 of 1 completed\n"
     ]
    }
   ],
   "source": [
    "#To run for individual\n",
    "symbol ='GOOGL'\n",
    "start_date = '2000-01-01'\n",
    "end_date = '2021-01-01'\n",
    "\n",
    "df = data.get_data_yahoo(symbol, start_date, end_date)\n",
    "df.to_csv(\"{}.csv\".format(str(symbol)))\n"
   ]
  },
  {
   "cell_type": "markdown",
   "metadata": {},
   "source": [
    "ticker = \"IBM\"\n",
    "# ticker = \"MSFT\"\n",
    "# ticker = \"FB\"\n",
    "\n",
    "tkr = yf.Ticker(ticker)\n",
    "tkr\n",
    "historical_data = tkr.history(start=start_date, end=end_date)\n",
    "historical_data.shape\n",
    "historical_data.head()"
   ]
  }
 ],
 "metadata": {
  "kernelspec": {
   "display_name": "Python 3",
   "language": "python",
   "name": "python3"
  },
  "language_info": {
   "codemirror_mode": {
    "name": "ipython",
    "version": 3
   },
   "file_extension": ".py",
   "mimetype": "text/x-python",
   "name": "python",
   "nbconvert_exporter": "python",
   "pygments_lexer": "ipython3",
   "version": "3.6.3"
  }
 },
 "nbformat": 4,
 "nbformat_minor": 2
}
