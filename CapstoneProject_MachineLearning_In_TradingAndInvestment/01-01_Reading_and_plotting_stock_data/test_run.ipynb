{
 "cells": [
  {
   "cell_type": "code",
   "execution_count": 1,
   "metadata": {},
   "outputs": [],
   "source": [
    "import pandas as pd\n",
    "import matplotlib.pyplot as plt\n",
    "\n",
    "def get_max_close(symbol):\n",
    "    \"\"\"Retuen the maximum closing value for stock indicated by symbol.\n",
    "    \n",
    "    Note: Dat for stock is stored in file :data/<symbol>.csv\n",
    "    \"\"\"\n",
    "    \n",
    "    df = pd.read_csv(\"../data/{}.csv\".format(symbol)) #read in the data\n",
    "    return df['Close'].max() # compute and return maximum\n",
    "\n",
    "def get_mean_volume(symbol):\n",
    "    \"\"\"Return the mean volume for stock indicated by symbol.\n",
    "    \n",
    "    Note: Data for a stock is stored in file: data/<symbol>.csv\n",
    "    \"\"\"\n",
    "    df = pd.read_csv(\"../data/{}.csv\".format(symbol))  # read in data\n",
    "    return df['Volume'].mean()\n",
    "\n"
   ]
  },
  {
   "cell_type": "code",
   "execution_count": 2,
   "metadata": {},
   "outputs": [],
   "source": [
    "def test_run():\n",
    "    \"\"\"\"Function called by test_run. \"\"\"\n",
    "    #for symbol in ['AAPL','IBM']:\n",
    "    #    print (\"Max Close and Mean Volumne\")\n",
    "    #    print (symbol,get_max_close(symbol),get_mean_volume(symbol))\n",
    "        \n",
    "        \n",
    "    df= pd.read_csv(\"../data/AAPL.csv\")\n",
    "    print(df[['Close','Adj Close']])\n",
    "    df[['Close','Adj Close']].plot() \n",
    "    plt.show() # must be called to shot the plot\n",
    "    \n",
    "    \"\"\"Plot High prices for IBM\"\"\"\n",
    "    #df= pd.read_csv(\"data/IBM.csv\")\n",
    "    #print(df['High'])\n",
    "    #df['High'].plot() \n",
    "    #plt.show() # must be called to shot the plot"
   ]
  },
  {
   "cell_type": "code",
   "execution_count": 3,
   "metadata": {},
   "outputs": [],
   "source": [
    "#test_run()"
   ]
  },
  {
   "cell_type": "code",
   "execution_count": 4,
   "metadata": {},
   "outputs": [
    {
     "name": "stdout",
     "output_type": "stream",
     "text": [
      "           Close   Adj Close\n",
      "0       0.999442    0.862169\n",
      "1       0.915179    0.789480\n",
      "2       0.928571    0.801032\n",
      "3       0.848214    0.731712\n",
      "4       0.888393    0.766373\n",
      "5       0.872768    0.752894\n",
      "6       0.828125    0.714383\n",
      "7       0.778460    0.671539\n",
      "8       0.863839    0.745191\n",
      "9       0.896763    0.773593\n",
      "10      0.928013    0.800551\n",
      "11      0.951451    0.820770\n",
      "12      1.013393    0.874204\n",
      "13      0.993862    0.857355\n",
      "14      0.948661    0.818363\n",
      "15      1.002232    0.864576\n",
      "16      0.983817    0.848690\n",
      "17      0.982143    0.847246\n",
      "18      0.907366    0.782740\n",
      "19      0.926339    0.799107\n",
      "20      0.895089    0.772149\n",
      "21      0.882254    0.761077\n",
      "22      0.922433    0.795738\n",
      "23      0.964286    0.831842\n",
      "24      1.018415    0.878536\n",
      "25      1.025670    0.884795\n",
      "26      1.005580    0.867464\n",
      "27      1.013393    0.874204\n",
      "28      0.970982    0.837618\n",
      "29      1.034040    0.892015\n",
      "...          ...         ...\n",
      "5254  118.029999  118.029999\n",
      "5255  118.639999  118.639999\n",
      "5256  117.339996  117.339996\n",
      "5257  113.849998  113.849998\n",
      "5258  115.169998  115.169998\n",
      "5259  116.029999  116.029999\n",
      "5260  116.589996  116.589996\n",
      "5261  119.050003  119.050003\n",
      "5262  122.720001  122.720001\n",
      "5263  123.080002  123.080002\n",
      "5264  122.940002  122.940002\n",
      "5265  122.250000  122.250000\n",
      "5266  123.750000  123.750000\n",
      "5267  124.379997  124.379997\n",
      "5268  121.779999  121.779999\n",
      "5269  123.239998  123.239998\n",
      "5270  122.410004  122.410004\n",
      "5271  121.779999  121.779999\n",
      "5272  127.879997  127.879997\n",
      "5273  127.809998  127.809998\n",
      "5274  128.699997  128.699997\n",
      "5275  126.660004  126.660004\n",
      "5276  128.229996  128.229996\n",
      "5277  131.880005  131.880005\n",
      "5278  130.960007  130.960007\n",
      "5279  131.970001  131.970001\n",
      "5280  136.690002  136.690002\n",
      "5281  134.869995  134.869995\n",
      "5282  133.720001  133.720001\n",
      "5283  132.690002  132.690002\n",
      "\n",
      "[5284 rows x 2 columns]\n"
     ]
    },
    {
     "data": {
      "image/png": "[encoded data removed]",
      "text/plain": [
       "<matplotlib.figure.Figure at 0x7feb9efd58d0>"
      ]
     },
     "metadata": {
      "needs_background": "light"
     },
     "output_type": "display_data"
    }
   ],
   "source": [
    "if __name__ == \"__main__\": #if run standalone\n",
    "    test_run()"
   ]
  },
  {
   "cell_type": "code",
   "execution_count": null,
   "metadata": {},
   "outputs": [],
   "source": []
  }
 ],
 "metadata": {
  "kernelspec": {
   "display_name": "Python 3",
   "language": "python",
   "name": "python3"
  },
  "language_info": {
   "codemirror_mode": {
    "name": "ipython",
    "version": 3
   },
   "file_extension": ".py",
   "mimetype": "text/x-python",
   "name": "python",
   "nbconvert_exporter": "python",
   "pygments_lexer": "ipython3",
   "version": "3.6.3"
  }
 },
 "nbformat": 4,
 "nbformat_minor": 2
}
