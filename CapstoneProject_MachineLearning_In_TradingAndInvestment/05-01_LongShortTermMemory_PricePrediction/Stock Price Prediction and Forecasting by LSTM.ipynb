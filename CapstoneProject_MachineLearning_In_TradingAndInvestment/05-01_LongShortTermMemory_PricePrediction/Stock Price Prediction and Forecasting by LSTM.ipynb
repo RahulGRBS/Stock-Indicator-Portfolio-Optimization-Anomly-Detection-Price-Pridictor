{
 "cells": [
  {
   "cell_type": "markdown",
   "metadata": {},
   "source": [
    "## Stock Price Predictor\n",
    "\n",
    "Deep learning is shaping modern quantitive financial field. There are many different neural networks can be applied to stock price prediction problems. The challenge here is to try to predict the future closing value of a given stock across a given period of time in the future.  Long Short Term Memory networks , it is the recurrent neural network and it outperforms others architecture since it can take advantage of predicting time series (or sequentially) . It usually called “LSTMs” here is used to predict the closing price of the stock using a dataset of past prices . "
   ]
  },
  {
   "cell_type": "code",
   "execution_count": 1,
   "metadata": {},
   "outputs": [
    {
     "name": "stdout",
     "output_type": "stream",
     "text": [
      "Collecting pip\n",
      "\u001b[?25l  Downloading https://files.pythonhosted.org/packages/fe/ef/60d7ba03b5c442309ef42e7d69959f73aacccd0d86008362a681c4698e83/pip-21.0.1-py3-none-any.whl (1.5MB)\n",
      "\u001b[K    100% |████████████████████████████████| 1.5MB 7.9MB/s eta 0:00:01    93% |██████████████████████████████  | 1.4MB 11.6MB/s eta 0:00:01\n",
      "\u001b[?25hInstalling collected packages: pip\n",
      "  Found existing installation: pip 18.1\n",
      "    Uninstalling pip-18.1:\n",
      "      Successfully uninstalled pip-18.1\n",
      "Successfully installed pip-21.0.1\n",
      "Collecting plotly==4.5.0\n",
      "  Downloading plotly-4.5.0-py2.py3-none-any.whl (7.1 MB)\n",
      "\u001b[K     |████████████████████████████████| 7.1 MB 5.3 MB/s eta 0:00:0102     |█████████▉                      | 2.2 MB 5.3 MB/s eta 0:00:01\n",
      "\u001b[?25hRequirement already satisfied: six in /opt/conda/lib/python3.6/site-packages (from plotly==4.5.0) (1.11.0)\n",
      "Collecting retrying>=1.3.3\n",
      "  Downloading retrying-1.3.3.tar.gz (10 kB)\n",
      "Building wheels for collected packages: retrying\n",
      "  Building wheel for retrying (setup.py) ... \u001b[?25ldone\n",
      "\u001b[?25h  Created wheel for retrying: filename=retrying-1.3.3-py3-none-any.whl size=9566 sha256=f9cdbd2c273e12c6f9474a97af18790dfa77b1f9da689e2b2945c2f960faaa22\n",
      "  Stored in directory: /root/.cache/pip/wheels/ac/cb/8a/b27bf6323e2f4c462dcbf77d70b7c5e7868a7fbe12871770cf\n",
      "Successfully built retrying\n",
      "Installing collected packages: retrying, plotly\n",
      "  Attempting uninstall: plotly\n",
      "    Found existing installation: plotly 2.0.15\n",
      "    Uninstalling plotly-2.0.15:\n",
      "      Successfully uninstalled plotly-2.0.15\n",
      "Successfully installed plotly-4.5.0 retrying-1.3.3\n",
      "Collecting dask==2020.12.0\n",
      "  Downloading dask-2020.12.0-py3-none-any.whl (884 kB)\n",
      "\u001b[K     |████████████████████████████████| 884 kB 5.5 MB/s eta 0:00:01\n",
      "\u001b[?25hRequirement already satisfied: pyyaml in /opt/conda/lib/python3.6/site-packages (from dask==2020.12.0) (3.12)\n",
      "Installing collected packages: dask\n",
      "  Attempting uninstall: dask\n",
      "    Found existing installation: dask 0.16.1\n",
      "    Uninstalling dask-0.16.1:\n",
      "      Successfully uninstalled dask-0.16.1\n",
      "Successfully installed dask-2020.12.0\n",
      "Collecting widgetsnbextension==3.0.0\n",
      "  Downloading widgetsnbextension-3.0.0-py2.py3-none-any.whl (2.5 MB)\n",
      "\u001b[K     |████████████████████████████████| 2.5 MB 3.6 MB/s eta 0:00:01\n",
      "\u001b[?25hRequirement already satisfied: notebook>=4.4.1 in /opt/conda/lib/python3.6/site-packages (from widgetsnbextension==3.0.0) (5.7.0)\n",
      "Requirement already satisfied: jinja2 in /opt/conda/lib/python3.6/site-packages (from notebook>=4.4.1->widgetsnbextension==3.0.0) (2.10)\n",
      "Requirement already satisfied: tornado>=4 in /opt/conda/lib/python3.6/site-packages (from notebook>=4.4.1->widgetsnbextension==3.0.0) (4.5.3)\n",
      "Requirement already satisfied: pyzmq>=17 in /opt/conda/lib/python3.6/site-packages (from notebook>=4.4.1->widgetsnbextension==3.0.0) (17.1.2)\n",
      "Requirement already satisfied: ipython_genutils in /opt/conda/lib/python3.6/site-packages (from notebook>=4.4.1->widgetsnbextension==3.0.0) (0.2.0)\n",
      "Requirement already satisfied: traitlets>=4.2.1 in /opt/conda/lib/python3.6/site-packages (from notebook>=4.4.1->widgetsnbextension==3.0.0) (4.3.2)\n",
      "Requirement already satisfied: jupyter_core>=4.4.0 in /opt/conda/lib/python3.6/site-packages (from notebook>=4.4.1->widgetsnbextension==3.0.0) (4.4.0)\n",
      "Requirement already satisfied: jupyter_client>=5.2.0 in /opt/conda/lib/python3.6/site-packages (from notebook>=4.4.1->widgetsnbextension==3.0.0) (5.2.4)\n",
      "Requirement already satisfied: nbformat in /opt/conda/lib/python3.6/site-packages (from notebook>=4.4.1->widgetsnbextension==3.0.0) (4.4.0)\n",
      "Requirement already satisfied: nbconvert in /opt/conda/lib/python3.6/site-packages (from notebook>=4.4.1->widgetsnbextension==3.0.0) (5.4.0)\n",
      "Requirement already satisfied: ipykernel in /opt/conda/lib/python3.6/site-packages (from notebook>=4.4.1->widgetsnbextension==3.0.0) (4.9.0)\n",
      "Requirement already satisfied: Send2Trash in /opt/conda/lib/python3.6/site-packages (from notebook>=4.4.1->widgetsnbextension==3.0.0) (1.5.0)\n",
      "Requirement already satisfied: terminado>=0.8.1 in /opt/conda/lib/python3.6/site-packages (from notebook>=4.4.1->widgetsnbextension==3.0.0) (0.8.1)\n",
      "Requirement already satisfied: prometheus_client in /opt/conda/lib/python3.6/site-packages (from notebook>=4.4.1->widgetsnbextension==3.0.0) (0.3.1)\n",
      "Requirement already satisfied: python-dateutil>=2.1 in /opt/conda/lib/python3.6/site-packages (from jupyter_client>=5.2.0->notebook>=4.4.1->widgetsnbextension==3.0.0) (2.6.1)\n",
      "Requirement already satisfied: six>=1.5 in /opt/conda/lib/python3.6/site-packages (from python-dateutil>=2.1->jupyter_client>=5.2.0->notebook>=4.4.1->widgetsnbextension==3.0.0) (1.11.0)\n",
      "Requirement already satisfied: decorator in /opt/conda/lib/python3.6/site-packages (from traitlets>=4.2.1->notebook>=4.4.1->widgetsnbextension==3.0.0) (4.0.11)\n",
      "Requirement already satisfied: ipython>=4.0.0 in /opt/conda/lib/python3.6/site-packages (from ipykernel->notebook>=4.4.1->widgetsnbextension==3.0.0) (6.5.0)\n",
      "Requirement already satisfied: pexpect in /opt/conda/lib/python3.6/site-packages (from ipython>=4.0.0->ipykernel->notebook>=4.4.1->widgetsnbextension==3.0.0) (4.3.1)\n",
      "Requirement already satisfied: jedi>=0.10 in /opt/conda/lib/python3.6/site-packages (from ipython>=4.0.0->ipykernel->notebook>=4.4.1->widgetsnbextension==3.0.0) (0.10.2)\n",
      "Requirement already satisfied: setuptools>=18.5 in /opt/conda/lib/python3.6/site-packages (from ipython>=4.0.0->ipykernel->notebook>=4.4.1->widgetsnbextension==3.0.0) (38.4.0)\n",
      "Requirement already satisfied: prompt-toolkit<2.0.0,>=1.0.15 in /opt/conda/lib/python3.6/site-packages (from ipython>=4.0.0->ipykernel->notebook>=4.4.1->widgetsnbextension==3.0.0) (1.0.15)\n",
      "Requirement already satisfied: backcall in /opt/conda/lib/python3.6/site-packages (from ipython>=4.0.0->ipykernel->notebook>=4.4.1->widgetsnbextension==3.0.0) (0.1.0)\n",
      "Requirement already satisfied: pygments in /opt/conda/lib/python3.6/site-packages (from ipython>=4.0.0->ipykernel->notebook>=4.4.1->widgetsnbextension==3.0.0) (2.2.0)\n",
      "Requirement already satisfied: pickleshare in /opt/conda/lib/python3.6/site-packages (from ipython>=4.0.0->ipykernel->notebook>=4.4.1->widgetsnbextension==3.0.0) (0.7.4)\n",
      "Requirement already satisfied: simplegeneric>0.8 in /opt/conda/lib/python3.6/site-packages (from ipython>=4.0.0->ipykernel->notebook>=4.4.1->widgetsnbextension==3.0.0) (0.8.1)\n",
      "Requirement already satisfied: wcwidth in /opt/conda/lib/python3.6/site-packages (from prompt-toolkit<2.0.0,>=1.0.15->ipython>=4.0.0->ipykernel->notebook>=4.4.1->widgetsnbextension==3.0.0) (0.1.7)\n",
      "Requirement already satisfied: MarkupSafe>=0.23 in /opt/conda/lib/python3.6/site-packages (from jinja2->notebook>=4.4.1->widgetsnbextension==3.0.0) (1.0)\n",
      "Requirement already satisfied: mistune>=0.8.1 in /opt/conda/lib/python3.6/site-packages (from nbconvert->notebook>=4.4.1->widgetsnbextension==3.0.0) (0.8.3)\n",
      "Requirement already satisfied: entrypoints>=0.2.2 in /opt/conda/lib/python3.6/site-packages (from nbconvert->notebook>=4.4.1->widgetsnbextension==3.0.0) (0.2.3)\n",
      "Requirement already satisfied: bleach in /opt/conda/lib/python3.6/site-packages (from nbconvert->notebook>=4.4.1->widgetsnbextension==3.0.0) (1.5.0)\n",
      "Requirement already satisfied: pandocfilters>=1.4.1 in /opt/conda/lib/python3.6/site-packages (from nbconvert->notebook>=4.4.1->widgetsnbextension==3.0.0) (1.4.1)\n",
      "Requirement already satisfied: testpath in /opt/conda/lib/python3.6/site-packages (from nbconvert->notebook>=4.4.1->widgetsnbextension==3.0.0) (0.3.1)\n",
      "Requirement already satisfied: defusedxml in /opt/conda/lib/python3.6/site-packages (from nbconvert->notebook>=4.4.1->widgetsnbextension==3.0.0) (0.5.0)\n",
      "Requirement already satisfied: jsonschema!=2.5.0,>=2.4 in /opt/conda/lib/python3.6/site-packages (from nbformat->notebook>=4.4.1->widgetsnbextension==3.0.0) (2.6.0)\n",
      "Requirement already satisfied: html5lib!=0.9999,!=0.99999,<0.99999999,>=0.999 in /opt/conda/lib/python3.6/site-packages (from bleach->nbconvert->notebook>=4.4.1->widgetsnbextension==3.0.0) (0.9999999)\n",
      "Requirement already satisfied: ptyprocess>=0.5 in /opt/conda/lib/python3.6/site-packages (from pexpect->ipython>=4.0.0->ipykernel->notebook>=4.4.1->widgetsnbextension==3.0.0) (0.5.2)\n",
      "Installing collected packages: widgetsnbextension\n",
      "  Attempting uninstall: widgetsnbextension\n",
      "    Found existing installation: widgetsnbextension 3.1.0\n",
      "    Uninstalling widgetsnbextension-3.1.0:\n"
     ]
    },
    {
     "name": "stdout",
     "output_type": "stream",
     "text": [
      "      Successfully uninstalled widgetsnbextension-3.1.0\n",
      "Successfully installed widgetsnbextension-3.0.0\n",
      "Collecting jsonschema==3.0.1\n",
      "  Downloading jsonschema-3.0.1-py2.py3-none-any.whl (54 kB)\n",
      "\u001b[K     |████████████████████████████████| 54 kB 2.4 MB/s eta 0:00:011\n",
      "\u001b[?25hRequirement already satisfied: setuptools in /opt/conda/lib/python3.6/site-packages (from jsonschema==3.0.1) (38.4.0)\n",
      "Requirement already satisfied: pyrsistent>=0.14.0 in /opt/conda/lib/python3.6/site-packages (from jsonschema==3.0.1) (0.15.2)\n",
      "Requirement already satisfied: attrs>=17.4.0 in /opt/conda/lib/python3.6/site-packages (from jsonschema==3.0.1) (19.1.0)\n",
      "Requirement already satisfied: six>=1.11.0 in /opt/conda/lib/python3.6/site-packages (from jsonschema==3.0.1) (1.11.0)\n",
      "Installing collected packages: jsonschema\n",
      "  Attempting uninstall: jsonschema\n",
      "    Found existing installation: jsonschema 2.6.0\n",
      "    Uninstalling jsonschema-2.6.0:\n",
      "      Successfully uninstalled jsonschema-2.6.0\n",
      "Successfully installed jsonschema-3.0.1\n",
      "Collecting tensorflow==2.3.2\n",
      "  Downloading tensorflow-2.3.2-cp36-cp36m-manylinux2010_x86_64.whl (320.4 MB)\n"
     ]
    },
    {
     "name": "stdout",
     "output_type": "stream",
     "text": [
      "\u001b[K     |███████████████████▉            | 199.0 MB 21.0 MB/s eta 0:00:06  |                                | 808 kB 5.1 MB/s eta 0:01:03     |▏                               | 2.1 MB 5.1 MB/s eta 0:01:03     |▍                               | 4.1 MB 5.1 MB/s eta 0:01:02     |▌                               | 5.3 MB 5.1 MB/s eta 0:01:02     |▊                               | 7.8 MB 5.1 MB/s eta 0:01:01     |▉                               | 8.4 MB 5.1 MB/s eta 0:01:01     |█                               | 9.2 MB 5.1 MB/s eta 0:01:01     |█                               | 10.4 MB 5.1 MB/s eta 0:01:01     |█▏                              | 11.6 MB 5.1 MB/s eta 0:01:01     |█▍                              | 14.0 MB 5.1 MB/s eta 0:01:00     |██                              | 20.8 MB 23.7 MB/s eta 0:00:13     |██▏                             | 21.9 MB 23.7 MB/s eta 0:00:13     |██▍                             | 24.2 MB 23.7 MB/s eta 0:00:13     |██▌                             | 25.3 MB 23.7 MB/s eta 0:00:13     |███▊                            | 37.1 MB 23.7 MB/s eta 0:00:12 MB 23.7 MB/s eta 0:00:12     |████                            | 39.6 MB 23.7 MB/s eta 0:00:12     |████▏                           | 41.8 MB 21.7 MB/s eta 0:00:13     |████▌                           | 45.2 MB 21.7 MB/s eta 0:00:13     |████▊                           | 47.4 MB 21.7 MB/s eta 0:00:13     |█████                           | 50.7 MB 21.7 MB/s eta 0:00:13     |█████▏                          | 51.8 MB 21.7 MB/s eta 0:00:13     |█████▌                          | 55.2 MB 21.7 MB/s eta 0:00:13     |██████                          | 59.7 MB 21.7 MB/s eta 0:00:13     |██████                          | 60.9 MB 21.7 MB/s eta 0:00:12     |██████▍                         | 64.2 MB 23.6 MB/s eta 0:00:11     |██████▉                         | 68.6 MB 23.6 MB/s eta 0:00:11     |███████                         | 69.7 MB 23.6 MB/s eta 0:00:11     |███████▏                        | 71.9 MB 23.6 MB/s eta 0:00:11     |███████▎                        | 72.8 MB 23.6 MB/s eta 0:00:11     |███████▋                        | 76.0 MB 23.6 MB/s eta 0:00:11     |███████▊                        | 77.0 MB 23.6 MB/s eta 0:00:11     |████████                        | 79.1 MB 23.6 MB/s eta 0:00:11     |████████                        | 81.2 MB 23.6 MB/s eta 0:00:11     |████████▎                       | 83.3 MB 20.7 MB/s eta 0:00:12     |████████▌                       | 85.3 MB 20.7 MB/s eta 0:00:12     |████████▊                       | 87.4 MB 20.7 MB/s eta 0:00:12     |█████████                       | 89.3 MB 20.7 MB/s eta 0:00:12     |█████████▎                      | 92.5 MB 20.7 MB/s eta 0:00:11     |█████████▌                      | 94.7 MB 20.7 MB/s eta 0:00:11     |█████████▋                      | 95.8 MB 20.7 MB/s eta 0:00:11     |█████████▊                      | 96.9 MB 20.7 MB/s eta 0:00:11     |█████████▉                      | 98.0 MB 20.7 MB/s eta 0:00:11     |██████████                      | 99.1 MB 20.7 MB/s eta 0:00:11     |██████████                      | 100.1 MB 20.7 MB/s eta 0:00:11     |██████████                      | 101.2 MB 22.1 MB/s eta 0:00:10     |██████████▎                     | 103.3 MB 22.1 MB/s eta 0:00:10     |██████████▌                     | 105.4 MB 22.1 MB/s eta 0:00:10     |██████████▋                     | 106.5 MB 22.1 MB/s eta 0:00:10     |██████████▊                     | 107.6 MB 22.1 MB/s eta 0:00:10     |███████████                     | 109.4 MB 22.1 MB/s eta 0:00:10     |███████████▏                    | 111.6 MB 22.1 MB/s eta 0:00:10     |███████████▍                    | 113.9 MB 22.1 MB/s eta 0:00:10     |███████████▌                    | 115.0 MB 22.1 MB/s eta 0:00:10     |███████████▉                    | 118.1 MB 22.1 MB/s eta 0:00:10     |████████████                    | 119.3 MB 22.1 MB/s eta 0:00:10     |████████████▏                   | 121.6 MB 10.2 MB/s eta 0:00:20     |████████████▍                   | 124.0 MB 10.2 MB/s eta 0:00:20     |████████████▋                   | 126.3 MB 10.2 MB/s eta 0:00:19     |████████████▊                   | 127.5 MB 10.2 MB/s eta 0:00:19     |████████████▉                   | 128.7 MB 10.2 MB/s eta 0:00:19     |█████████████▍                  | 134.1 MB 10.2 MB/s eta 0:00:19     |█████████████▌                  | 135.2 MB 10.2 MB/s eta 0:00:19     |█████████████▋                  | 136.6 MB 10.2 MB/s eta 0:00:18     |█████████████▊                  | 137.7 MB 10.2 MB/s eta 0:00:18     |█████████████▉                  | 139.0 MB 10.2 MB/s eta 0:00:18     |██████████████                  | 141.3 MB 27.9 MB/s eta 0:00:07     |██████████████▌                 | 145.6 MB 27.9 MB/s eta 0:00:07     |██████████████▋                 | 146.8 MB 27.9 MB/s eta 0:00:07     |██████████████▉                 | 148.1 MB 27.9 MB/s eta 0:00:07     |███████████████                 | 150.1 MB 27.9 MB/s eta 0:00:07     |███████████████▏                | 152.2 MB 27.9 MB/s eta 0:00:07     |███████████████▎                | 153.4 MB 27.9 MB/s eta 0:00:06     |███████████████▌                | 154.7 MB 27.9 MB/s eta 0:00:06     |███████████████▊                | 157.0 MB 27.9 MB/s eta 0:00:06     |███████████████▉                | 158.2 MB 27.9 MB/s eta 0:00:06     |████████████████                | 160.4 MB 27.9 MB/s eta 0:00:06     |████████████████                | 160.9 MB 5.8 MB/s eta 0:00:28     |████████████████▏               | 162.0 MB 5.8 MB/s eta 0:00:28     |████████████████▎               | 163.2 MB 5.8 MB/s eta 0:00:27     |████████████████▌               | 165.4 MB 5.8 MB/s eta 0:00:27     |████████████████▊               | 167.6 MB 5.8 MB/s eta 0:00:27     |█████████████████               | 169.8 MB 5.8 MB/s eta 0:00:26     |█████████████████               | 171.0 MB 5.8 MB/s eta 0:00:26     |█████████████████▏              | 172.4 MB 5.8 MB/s eta 0:00:26     |█████████████████▍              | 173.6 MB 5.8 MB/s eta 0:00:26     |█████████████████▊              | 177.3 MB 5.8 MB/s eta 0:00:25     |██████████████████              | 179.5 MB 5.8 MB/s eta 0:00:25     |██████████████████              | 180.8 MB 5.8 MB/s eta 0:00:24     |██████████████████▏             | 181.9 MB 21.0 MB/s eta 0:00:07     |██████████████████▎             | 183.0 MB 21.0 MB/s eta 0:00:07     |██████████████████▌             | 185.4 MB 21.0 MB/s eta 0:00:07     |██████████████████▋             | 186.6 MB 21.0 MB/s eta 0:00:07     |██████████████████▊             | 187.7 MB 21.0 MB/s eta 0:00:07     |██████████████████▉             | 188.6 MB 21.0 MB/s eta 0:00:07     |███████████████████▏            | 191.7 MB 21.0 MB/s eta 0:00:07     |███████████████████▎            | 192.6 MB 21.0 MB/s eta 0:00:07     |███████████████████▍            | 193.8 MB 21.0 MB/s eta 0:00:07     |███████████████████▌            | 194.9 MB 21.0 MB/s eta 0:00:06     |███████████████████▋            | 195.8 MB 21.0 MB/s eta 0:00:06     |███████████████████▊            | 196.9 MB 21.0 MB/s eta 0:00:06     |███████████████████▊            | 197.8 MB 21.0 MB/s eta 0:00:06\u001b[K     |████████████████████████████████| 320.4 MB 6.5 kB/s  eta 0:00:01     |████████████████████            | 200.9 MB 9.0 MB/s eta 0:00:14     |████████████████████▏           | 202.0 MB 9.0 MB/s eta 0:00:14     |████████████████████▍           | 204.3 MB 9.0 MB/s eta 0:00:13     |████████████████████▌           | 205.4 MB 9.0 MB/s eta 0:00:13     |████████████████████▊           | 207.8 MB 9.0 MB/s eta 0:00:13     |████████████████████▉           | 209.0 MB 9.0 MB/s eta 0:00:13     |█████████████████████           | 210.3 MB 9.0 MB/s eta 0:00:13     |█████████████████████           | 211.4 MB 9.0 MB/s eta 0:00:13     |█████████████████████▎          | 212.6 MB 9.0 MB/s eta 0:00:12     |█████████████████████▎          | 213.4 MB 9.0 MB/s eta 0:00:12     |█████████████████████▍          | 214.7 MB 9.0 MB/s eta 0:00:12     |█████████████████████▋          | 215.8 MB 9.0 MB/s eta 0:00:12     |█████████████████████▊          | 217.1 MB 9.0 MB/s eta 0:00:12     |█████████████████████▉          | 218.3 MB 9.0 MB/s eta 0:00:12     |██████████████████████          | 219.4 MB 23.2 MB/s eta 0:00:05     |██████████████████████          | 220.7 MB 23.2 MB/s eta 0:00:05     |██████████████████████          | 221.1 MB 23.2 MB/s eta 0:00:05     |██████████████████████▏         | 222.2 MB 23.2 MB/s eta 0:00:05     |██████████████████████▎         | 223.3 MB 23.2 MB/s eta 0:00:05     |██████████████████████▍         | 224.4 MB 23.2 MB/s eta 0:00:05     |██████████████████████▌         | 225.5 MB 23.2 MB/s eta 0:00:05     |██████████████████████▋         | 226.7 MB 23.2 MB/s eta 0:00:05     |██████████████████████▊         | 227.7 MB 23.2 MB/s eta 0:00:04     |██████████████████████▉         | 228.7 MB 23.2 MB/s eta 0:00:04     |███████████████████████         | 230.1 MB 23.2 MB/s eta 0:00:04     |███████████████████████         | 231.3 MB 23.2 MB/s eta 0:00:04     |███████████████████████▏        | 232.4 MB 23.2 MB/s eta 0:00:04     |███████████████████████▍        | 233.7 MB 23.2 MB/s eta 0:00:04     |███████████████████████▌        | 235.0 MB 23.2 MB/s eta 0:00:04     |███████████████████████▋        | 236.2 MB 23.2 MB/s eta 0:00:04     |███████████████████████▊        | 237.7 MB 23.2 MB/s eta 0:00:04     |███████████████████████▉        | 239.1 MB 23.2 MB/s eta 0:00:04     |████████████████████████        | 240.3 MB 26.4 MB/s eta 0:00:04     |████████████████████████▏       | 241.6 MB 26.4 MB/s eta 0:00:03     |████████████████████████▎       | 242.9 MB 26.4 MB/s eta 0:00:03     |████████████████████████▍       | 244.3 MB 26.4 MB/s eta 0:00:03     |████████████████████████▌       | 245.6 MB 26.4 MB/s eta 0:00:03     |████████████████████████▋       | 246.7 MB 26.4 MB/s eta 0:00:03     |████████████████████████▊       | 248.0 MB 26.4 MB/s eta 0:00:03     |█████████████████████████       | 249.4 MB 26.4 MB/s eta 0:00:03     |█████████████████████████       | 250.5 MB 26.4 MB/s eta 0:00:03     |█████████████████████████▏      | 251.6 MB 26.4 MB/s eta 0:00:03     |█████████████████████████▎      | 253.0 MB 26.4 MB/s eta 0:00:03     |█████████████████████████▍      | 254.4 MB 26.4 MB/s eta 0:00:03     |█████████████████████████▌      | 255.5 MB 26.4 MB/s eta 0:00:03     |█████████████████████████▋      | 256.8 MB 26.4 MB/s eta 0:00:03     |█████████████████████████▉      | 258.2 MB 26.4 MB/s eta 0:00:03     |██████████████████████████      | 260.8 MB 26.4 MB/s eta 0:00:03     |██████████████████████████▏     | 261.9 MB 24.2 MB/s eta 0:00:03     |██████████████████████████▎     | 263.4 MB 24.2 MB/s eta 0:00:03     |██████████████████████████▍     | 264.6 MB 24.2 MB/s eta 0:00:03     |██████████████████████████▉     | 268.5 MB 24.2 MB/s eta 0:00:03     |███████████████████████████     | 271.4 MB 24.2 MB/s eta 0:00:03     |███████████████████████████▎    | 272.8 MB 24.2 MB/s eta 0:00:02     |███████████████████████████▌    | 275.4 MB 24.2 MB/s eta 0:00:02     |███████████████████████████▋    | 276.2 MB 24.2 MB/s eta 0:00:02     |███████████████████████████▊    | 277.0 MB 24.2 MB/s eta 0:00:02     |███████████████████████████▊    | 278.1 MB 24.2 MB/s eta 0:00:02     |████████████████████████████    | 279.5 MB 24.2 MB/s eta 0:00:02     |████████████████████████████    | 280.8 MB 24.2 MB/s eta 0:00:02     |████████████████████████████▏   | 282.3 MB 24.2 MB/s eta 0:00:02     |████████████████████████████▍   | 283.7 MB 19.2 MB/s eta 0:00:02     |████████████████████████████▌   | 285.2 MB 19.2 MB/s eta 0:00:02     |████████████████████████████▋   | 286.7 MB 19.2 MB/s eta 0:00:02     |████████████████████████████▉   | 288.2 MB 19.2 MB/s eta 0:00:02     |█████████████████████████████   | 289.3 MB 19.2 MB/s eta 0:00:02     |█████████████████████████████   | 290.6 MB 19.2 MB/s eta 0:00:02     |█████████████████████████████▏  | 291.8 MB 19.2 MB/s eta 0:00:02     |█████████████████████████████▍  | 294.4 MB 19.2 MB/s eta 0:00:02     |█████████████████████████████▌  | 295.7 MB 19.2 MB/s eta 0:00:02     |█████████████████████████████▊  | 297.1 MB 19.2 MB/s eta 0:00:02     |█████████████████████████████▉  | 298.5 MB 19.2 MB/s eta 0:00:02     |██████████████████████████████  | 299.7 MB 19.2 MB/s eta 0:00:02     |██████████████████████████████  | 300.9 MB 19.2 MB/s eta 0:00:02�█████████████▏ | 302.2 MB 19.2 MB/s eta 0:00:01     |██████████████████████████████▎ | 303.7 MB 19.2 MB/s eta 0:00:01     |██████████████████████████████▌ | 305.2 MB 19.2 MB/s eta 0:00:01     |██████████████████████████████▋ | 306.7 MB 40.1 MB/s eta 0:00:01     |██████████████████████████████▉ | 308.2 MB 40.1 MB/s eta 0:00:01     |███████████████████████████████ | 309.7 MB 40.1 MB/s eta 0:00:01     |███████████████████████████████ | 311.2 MB 40.1 MB/s eta 0:00:01     |███████████████████████████████▏| 312.5 MB 40.1 MB/s eta 0:00:01     |███████████████████████████████▍| 313.8 MB 40.1 MB/s eta 0:00:01     |███████████████████████████████▌| 315.0 MB 40.1 MB/s eta 0:00:01     |███████████████████████████████▋| 316.2 MB 40.1 MB/s eta 0:00:01     |███████████████████████████████▊| 317.6 MB 40.1 MB/s eta 0:00:01     |███████████████████████████████▉| 319.2 MB 40.1 MB/s eta 0:00:01\n",
      "\u001b[?25hCollecting protobuf>=3.9.2\n",
      "  Downloading protobuf-3.15.1-cp36-cp36m-manylinux1_x86_64.whl (1.0 MB)\n",
      "\u001b[K     |████████████████████████████████| 1.0 MB 13.5 MB/s eta 0:00:01     |███████████████████████████████▊| 1.0 MB 13.5 MB/s eta 0:00:01\n",
      "\u001b[?25hCollecting astunparse==1.6.3\n",
      "  Downloading astunparse-1.6.3-py2.py3-none-any.whl (12 kB)\n",
      "Requirement already satisfied: wheel>=0.26 in /opt/conda/lib/python3.6/site-packages (from tensorflow==2.3.2) (0.30.0)\n",
      "Collecting tensorflow-estimator<2.4.0,>=2.3.0\n",
      "  Downloading tensorflow_estimator-2.3.0-py2.py3-none-any.whl (459 kB)\n",
      "\u001b[K     |████████████████████████████████| 459 kB 12.3 MB/s eta 0:00:01\n",
      "\u001b[?25hCollecting opt-einsum>=2.3.2\n",
      "  Downloading opt_einsum-3.3.0-py3-none-any.whl (65 kB)\n",
      "\u001b[K     |████████████████████████████████| 65 kB 3.4 MB/s eta 0:00:01\n",
      "\u001b[?25hCollecting google-pasta>=0.1.8\n",
      "  Downloading google_pasta-0.2.0-py3-none-any.whl (57 kB)\n",
      "\u001b[K     |████████████████████████████████| 57 kB 3.4 MB/s eta 0:00:01\n",
      "\u001b[?25hCollecting wrapt>=1.11.1\n",
      "  Downloading wrapt-1.12.1.tar.gz (27 kB)\n",
      "Collecting grpcio>=1.8.6\n",
      "  Downloading grpcio-1.35.0-cp36-cp36m-manylinux2014_x86_64.whl (4.1 MB)\n",
      "\u001b[K     |████████████████████████████████| 4.1 MB 10.7 MB/s eta 0:00:01     |█                               | 122 kB 10.7 MB/s eta 0:00:01     |█████████▌                      | 1.2 MB 10.7 MB/s eta 0:00:01     |███████████████████▋            | 2.5 MB 10.7 MB/s eta 0:00:01�█████▎ | 3.8 MB 10.7 MB/s eta 0:00:01\n",
      "\u001b[?25hCollecting absl-py>=0.7.0\n",
      "  Downloading absl_py-0.11.0-py3-none-any.whl (127 kB)\n",
      "\u001b[K     |████████████████████████████████| 127 kB 20.3 MB/s eta 0:00:01\n",
      "\u001b[?25hCollecting keras-preprocessing<1.2,>=1.1.1\n",
      "  Downloading Keras_Preprocessing-1.1.2-py2.py3-none-any.whl (42 kB)\n",
      "\u001b[K     |████████████████████████████████| 42 kB 1.3 MB/s eta 0:00:01\n",
      "\u001b[?25hCollecting six>=1.12.0\n",
      "  Downloading six-1.15.0-py2.py3-none-any.whl (10 kB)\n",
      "Collecting h5py<2.11.0,>=2.10.0\n",
      "  Downloading h5py-2.10.0-cp36-cp36m-manylinux1_x86_64.whl (2.9 MB)\n"
     ]
    },
    {
     "name": "stdout",
     "output_type": "stream",
     "text": [
      "\u001b[K     |████████████████████████████████| 2.9 MB 12.4 MB/s eta 0:00:01     |███████████████████▏            | 1.7 MB 12.4 MB/s eta 0:00:01\n",
      "\u001b[?25hCollecting numpy<1.19.0,>=1.16.0\n",
      "  Downloading numpy-1.18.5-cp36-cp36m-manylinux1_x86_64.whl (20.1 MB)\n",
      "\u001b[K     |████████████████████████████████| 20.1 MB 10.8 MB/s eta 0:00:01    |██▍                             | 1.5 MB 10.8 MB/s eta 0:00:02     |████▋                           | 2.9 MB 10.8 MB/s eta 0:00:02     |███████                         | 4.4 MB 10.8 MB/s eta 0:00:02�████                       | 5.7 MB 10.8 MB/s eta 0:00:02     |███████████▍                    | 7.1 MB 10.8 MB/s eta 0:00:02     |█████████████▊                  | 8.7 MB 10.8 MB/s eta 0:00:02     |██████████████████▌             | 11.7 MB 10.8 MB/s eta 0:00:01     |█████████████████████████▌      | 16.1 MB 10.8 MB/s eta 0:00:01     |██████████████████████████████  | 18.9 MB 10.8 MB/s eta 0:00:01\n",
      "\u001b[?25hCollecting termcolor>=1.1.0\n",
      "  Downloading termcolor-1.1.0.tar.gz (3.9 kB)\n",
      "Collecting tensorboard<3,>=2.3.0\n",
      "  Downloading tensorboard-2.4.1-py3-none-any.whl (10.6 MB)\n",
      "\u001b[K     |████████████████████████████████| 10.6 MB 14.7 MB/s eta 0:00:01    |█                               | 348 kB 14.7 MB/s eta 0:00:01     |██████▏                         | 2.0 MB 14.7 MB/s eta 0:00:01     |██████████▌                     | 3.5 MB 14.7 MB/s eta 0:00:01     |██████████████▊                 | 4.9 MB 14.7 MB/s eta 0:00:01     |██████████████████▉             | 6.3 MB 14.7 MB/s eta 0:00:01     |██████████████████████▊         | 7.6 MB 14.7 MB/s eta 0:00:01     |██████████████████████████▌     | 8.8 MB 14.7 MB/s eta 0:00:01     |██████████████████████████████▊ | 10.2 MB 14.7 MB/s eta 0:00:01\n",
      "\u001b[?25hCollecting gast==0.3.3\n",
      "  Downloading gast-0.3.3-py2.py3-none-any.whl (9.7 kB)\n",
      "Collecting requests<3,>=2.21.0\n",
      "  Downloading requests-2.25.1-py2.py3-none-any.whl (61 kB)\n",
      "\u001b[K     |████████████████████████████████| 61 kB 5.6 MB/s eta 0:00:01\n",
      "\u001b[?25hCollecting tensorboard-plugin-wit>=1.6.0\n",
      "  Downloading tensorboard_plugin_wit-1.8.0-py3-none-any.whl (781 kB)\n",
      "\u001b[K     |████████████████████████████████| 781 kB 16.2 MB/s eta 0:00:01\n",
      "\u001b[?25hRequirement already satisfied: werkzeug>=0.11.15 in /opt/conda/lib/python3.6/site-packages (from tensorboard<3,>=2.3.0->tensorflow==2.3.2) (0.14.1)\n",
      "Collecting setuptools>=41.0.0\n",
      "  Downloading setuptools-53.0.0-py3-none-any.whl (784 kB)\n",
      "\u001b[K     |████████████████████████████████| 784 kB 11.5 MB/s eta 0:00:01     |█████                           | 122 kB 11.5 MB/s eta 0:00:01\n",
      "\u001b[?25hRequirement already satisfied: markdown>=2.6.8 in /opt/conda/lib/python3.6/site-packages (from tensorboard<3,>=2.3.0->tensorflow==2.3.2) (2.6.9)\n",
      "Collecting google-auth<2,>=1.6.3\n",
      "  Downloading google_auth-1.27.0-py2.py3-none-any.whl (135 kB)\n",
      "\u001b[K     |████████████████████████████████| 135 kB 13.7 MB/s eta 0:00:01\n",
      "\u001b[?25hCollecting google-auth-oauthlib<0.5,>=0.4.1\n",
      "  Downloading google_auth_oauthlib-0.4.2-py2.py3-none-any.whl (18 kB)\n",
      "Collecting cachetools<5.0,>=2.0.0\n",
      "  Downloading cachetools-4.2.1-py3-none-any.whl (12 kB)\n",
      "Collecting pyasn1-modules>=0.2.1\n",
      "  Downloading pyasn1_modules-0.2.8-py2.py3-none-any.whl (155 kB)\n",
      "\u001b[K     |████████████████████████████████| 155 kB 9.3 MB/s eta 0:00:01\n",
      "\u001b[?25hRequirement already satisfied: rsa<5,>=3.1.4 in /opt/conda/lib/python3.6/site-packages (from google-auth<2,>=1.6.3->tensorboard<3,>=2.3.0->tensorflow==2.3.2) (3.4.2)\n",
      "Requirement already satisfied: requests-oauthlib>=0.7.0 in /opt/conda/lib/python3.6/site-packages (from google-auth-oauthlib<0.5,>=0.4.1->tensorboard<3,>=2.3.0->tensorflow==2.3.2) (0.8.0)\n",
      "Collecting pyasn1<0.5.0,>=0.4.6\n",
      "  Downloading pyasn1-0.4.8-py2.py3-none-any.whl (77 kB)\n",
      "\u001b[K     |████████████████████████████████| 77 kB 4.9 MB/s  eta 0:00:01\n",
      "\u001b[?25hRequirement already satisfied: urllib3<1.27,>=1.21.1 in /opt/conda/lib/python3.6/site-packages (from requests<3,>=2.21.0->tensorboard<3,>=2.3.0->tensorflow==2.3.2) (1.22)\n",
      "Requirement already satisfied: idna<3,>=2.5 in /opt/conda/lib/python3.6/site-packages (from requests<3,>=2.21.0->tensorboard<3,>=2.3.0->tensorflow==2.3.2) (2.6)\n",
      "Requirement already satisfied: chardet<5,>=3.0.2 in /opt/conda/lib/python3.6/site-packages (from requests<3,>=2.21.0->tensorboard<3,>=2.3.0->tensorflow==2.3.2) (3.0.4)\n",
      "Requirement already satisfied: certifi>=2017.4.17 in /opt/conda/lib/python3.6/site-packages (from requests<3,>=2.21.0->tensorboard<3,>=2.3.0->tensorflow==2.3.2) (2019.11.28)\n",
      "Requirement already satisfied: oauthlib>=0.6.2 in /opt/conda/lib/python3.6/site-packages (from requests-oauthlib>=0.7.0->google-auth-oauthlib<0.5,>=0.4.1->tensorboard<3,>=2.3.0->tensorflow==2.3.2) (2.0.6)\n",
      "Building wheels for collected packages: termcolor, wrapt\n",
      "  Building wheel for termcolor (setup.py) ... \u001b[?25ldone\n",
      "\u001b[?25h  Created wheel for termcolor: filename=termcolor-1.1.0-py3-none-any.whl size=5711 sha256=76fbcb3b9708a461600d035e5cfba66b6e9285a4e38019a86ed49d24e62c74aa\n",
      "  Stored in directory: /root/.cache/pip/wheels/93/2a/eb/e58dbcbc963549ee4f065ff80a59f274cc7210b6eab962acdc\n",
      "  Building wheel for wrapt (setup.py) ... \u001b[?25ldone\n",
      "\u001b[?25h  Created wheel for wrapt: filename=wrapt-1.12.1-cp36-cp36m-linux_x86_64.whl size=71781 sha256=7161415e26813ff8cce604c67441c3e96f22d7b704b7c91e183d0d2d17a83823\n",
      "  Stored in directory: /root/.cache/pip/wheels/32/42/7f/23cae9ff6ef66798d00dc5d659088e57dbba01566f6c60db63\n",
      "Successfully built termcolor wrapt\n",
      "Installing collected packages: pyasn1, six, setuptools, requests, pyasn1-modules, cachetools, google-auth, tensorboard-plugin-wit, protobuf, numpy, grpcio, google-auth-oauthlib, absl-py, wrapt, termcolor, tensorflow-estimator, tensorboard, opt-einsum, keras-preprocessing, h5py, google-pasta, gast, astunparse, tensorflow\n",
      "  Attempting uninstall: pyasn1\n",
      "    Found existing installation: pyasn1 0.4.4\n",
      "    Uninstalling pyasn1-0.4.4:\n",
      "      Successfully uninstalled pyasn1-0.4.4\n",
      "  Attempting uninstall: six\n",
      "    Found existing installation: six 1.11.0\n",
      "    Uninstalling six-1.11.0:\n",
      "      Successfully uninstalled six-1.11.0\n",
      "  Attempting uninstall: setuptools\n",
      "    Found existing installation: setuptools 38.4.0\n",
      "    Uninstalling setuptools-38.4.0:\n",
      "      Successfully uninstalled setuptools-38.4.0\n",
      "  Attempting uninstall: requests\n",
      "    Found existing installation: requests 2.18.4\n",
      "    Uninstalling requests-2.18.4:\n",
      "      Successfully uninstalled requests-2.18.4\n",
      "  Attempting uninstall: protobuf\n",
      "    Found existing installation: protobuf 3.5.1\n",
      "    Uninstalling protobuf-3.5.1:\n",
      "      Successfully uninstalled protobuf-3.5.1\n",
      "  Attempting uninstall: numpy\n",
      "    Found existing installation: numpy 1.12.1\n",
      "    Uninstalling numpy-1.12.1:\n",
      "      Successfully uninstalled numpy-1.12.1\n",
      "  Attempting uninstall: h5py\n",
      "    Found existing installation: h5py 2.7.1\n",
      "    Uninstalling h5py-2.7.1:\n",
      "      Successfully uninstalled h5py-2.7.1\n",
      "  Attempting uninstall: tensorflow\n",
      "    Found existing installation: tensorflow 1.3.0\n",
      "    Uninstalling tensorflow-1.3.0:\n",
      "      Successfully uninstalled tensorflow-1.3.0\n",
      "Successfully installed absl-py-0.11.0 astunparse-1.6.3 cachetools-4.2.1 gast-0.3.3 google-auth-1.27.0 google-auth-oauthlib-0.4.2 google-pasta-0.2.0 grpcio-1.35.0 h5py-2.10.0 keras-preprocessing-1.1.2 numpy-1.18.5 opt-einsum-3.3.0 protobuf-3.15.1 pyasn1-0.4.8 pyasn1-modules-0.2.8 requests-2.25.1 setuptools-53.0.0 six-1.15.0 tensorboard-2.4.1 tensorboard-plugin-wit-1.8.0 tensorflow-2.3.2 tensorflow-estimator-2.3.0 termcolor-1.1.0 wrapt-1.12.1\n",
      "Collecting numpy==1.17.5\n",
      "  Downloading numpy-1.17.5-cp36-cp36m-manylinux1_x86_64.whl (20.0 MB)\n",
      "\u001b[K     |████████████████████████████████| 20.0 MB 11.4 MB/s eta 0:00:01   |█                               | 593 kB 5.4 MB/s eta 0:00:04     |███                             | 1.8 MB 5.4 MB/s eta 0:00:04     |███████████▌                    | 7.2 MB 5.4 MB/s eta 0:00:03     |███████████████                 | 9.4 MB 5.4 MB/s eta 0:00:02     |█████████████████               | 10.6 MB 5.4 MB/s eta 0:00:02     |██████████████████████████      | 16.3 MB 5.4 MB/s eta 0:00:01     |███████████████████████████     | 16.9 MB 5.4 MB/s eta 0:00:01     |█████████████████████████████▎  | 18.3 MB 11.4 MB/s eta 0:00:01     |███████████████████████████████ | 19.4 MB 11.4 MB/s eta 0:00:01\n",
      "\u001b[?25hInstalling collected packages: numpy\n",
      "  Attempting uninstall: numpy\n",
      "    Found existing installation: numpy 1.18.5\n"
     ]
    },
    {
     "name": "stdout",
     "output_type": "stream",
     "text": [
      "    Uninstalling numpy-1.18.5:\n",
      "      Successfully uninstalled numpy-1.18.5\n",
      "Successfully installed numpy-1.17.5\n",
      "Name: tensorflow\n",
      "Version: 2.3.2\n",
      "Summary: TensorFlow is an open source machine learning framework for everyone.\n",
      "Home-page: https://www.tensorflow.org/\n",
      "Author: Google Inc.\n",
      "Author-email: packages@tensorflow.org\n",
      "License: Apache 2.0\n",
      "Location: /opt/conda/lib/python3.6/site-packages\n",
      "Requires: gast, h5py, google-pasta, keras-preprocessing, tensorflow-estimator, grpcio, protobuf, astunparse, numpy, termcolor, wrapt, wheel, six, opt-einsum, absl-py, tensorboard\n",
      "Required-by: \n"
     ]
    }
   ],
   "source": [
    "!pip install --upgrade pip\n",
    "!pip install plotly==4.5.0\n",
    "!pip install dask==2020.12.0\n",
    "!pip install widgetsnbextension==3.0.0\n",
    "!pip install jsonschema==3.0.1\n",
    "!pip install --upgrade tensorflow==2.3.2\n",
    "!pip install numpy==1.17.5\n",
    "!pip show tensorflow"
   ]
  },
  {
   "cell_type": "markdown",
   "metadata": {},
   "source": [
    "### Load Libraries"
   ]
  },
  {
   "cell_type": "code",
   "execution_count": 3,
   "metadata": {},
   "outputs": [],
   "source": [
    "import numpy as np\n",
    "import pandas as pd\n",
    "import matplotlib.pyplot as plt\n",
    "import math\n",
    "\n",
    "from sklearn.preprocessing import MinMaxScaler\n",
    "from sklearn.metrics import mean_squared_error\n",
    "\n",
    "from tensorflow.keras.models import Sequential\n",
    "from tensorflow.keras.layers import Dense\n",
    "from tensorflow.keras.layers import LSTM"
   ]
  },
  {
   "cell_type": "code",
   "execution_count": 4,
   "metadata": {},
   "outputs": [],
   "source": [
    "from util_LSTM import *"
   ]
  },
  {
   "cell_type": "markdown",
   "metadata": {},
   "source": [
    "### Load and Inspect dataset"
   ]
  },
  {
   "cell_type": "code",
   "execution_count": 5,
   "metadata": {},
   "outputs": [],
   "source": [
    "#Read in more stocks \n",
    "#symbols = ['GOOG', 'AAPL', 'GLD', 'XOM']\n",
    "ticker = ['AAPL']\n",
    "\n",
    "start_date = dt.datetime(2000,1,1)\n",
    "end_date = dt.datetime(2021,1,1)\n",
    "dates = pd.date_range(start_date, end_date)\n",
    "prices_all = get_data(ticker, dates)"
   ]
  },
  {
   "cell_type": "code",
   "execution_count": 6,
   "metadata": {},
   "outputs": [
    {
     "data": {
      "text/html": [
       "<div>\n",
       "<style scoped>\n",
       "    .dataframe tbody tr th:only-of-type {\n",
       "        vertical-align: middle;\n",
       "    }\n",
       "\n",
       "    .dataframe tbody tr th {\n",
       "        vertical-align: top;\n",
       "    }\n",
       "\n",
       "    .dataframe thead th {\n",
       "        text-align: right;\n",
       "    }\n",
       "</style>\n",
       "<table border=\"1\" class=\"dataframe\">\n",
       "  <thead>\n",
       "    <tr style=\"text-align: right;\">\n",
       "      <th></th>\n",
       "      <th>SPY</th>\n",
       "      <th>AAPL</th>\n",
       "    </tr>\n",
       "  </thead>\n",
       "  <tbody>\n",
       "    <tr>\n",
       "      <th>2000-01-03</th>\n",
       "      <td>98.146072</td>\n",
       "      <td>0.862169</td>\n",
       "    </tr>\n",
       "    <tr>\n",
       "      <th>2000-01-04</th>\n",
       "      <td>94.307983</td>\n",
       "      <td>0.789480</td>\n",
       "    </tr>\n",
       "    <tr>\n",
       "      <th>2000-01-05</th>\n",
       "      <td>94.476685</td>\n",
       "      <td>0.801032</td>\n",
       "    </tr>\n",
       "    <tr>\n",
       "      <th>2000-01-06</th>\n",
       "      <td>92.958336</td>\n",
       "      <td>0.731712</td>\n",
       "    </tr>\n",
       "    <tr>\n",
       "      <th>2000-01-07</th>\n",
       "      <td>98.356987</td>\n",
       "      <td>0.766373</td>\n",
       "    </tr>\n",
       "  </tbody>\n",
       "</table>\n",
       "</div>"
      ],
      "text/plain": [
       "                  SPY      AAPL\n",
       "2000-01-03  98.146072  0.862169\n",
       "2000-01-04  94.307983  0.789480\n",
       "2000-01-05  94.476685  0.801032\n",
       "2000-01-06  92.958336  0.731712\n",
       "2000-01-07  98.356987  0.766373"
      ]
     },
     "execution_count": 6,
     "metadata": {},
     "output_type": "execute_result"
    }
   ],
   "source": [
    "prices_all.head()"
   ]
  },
  {
   "cell_type": "code",
   "execution_count": 7,
   "metadata": {},
   "outputs": [
    {
     "data": {
      "text/plain": [
       "'AAPL'"
      ]
     },
     "execution_count": 7,
     "metadata": {},
     "output_type": "execute_result"
    }
   ],
   "source": [
    "ticker[0]"
   ]
  },
  {
   "cell_type": "code",
   "execution_count": 8,
   "metadata": {},
   "outputs": [
    {
     "name": "stdout",
     "output_type": "stream",
     "text": [
      "                   SPY    AdjClose\n",
      "2000-01-03   98.146072    0.862169\n",
      "2000-01-04   94.307983    0.789480\n",
      "2000-01-05   94.476685    0.801032\n",
      "2000-01-06   92.958336    0.731712\n",
      "2000-01-07   98.356987    0.766373\n",
      "2000-01-10   98.694397    0.752894\n",
      "2000-01-11   97.513435    0.714383\n",
      "2000-01-12   96.543373    0.671539\n",
      "2000-01-13   97.850876    0.745191\n",
      "2000-01-14   99.179451    0.773593\n",
      "2000-01-18   98.399147    0.800551\n",
      "2000-01-19   99.200493    0.820770\n",
      "2000-01-20   97.682137    0.874204\n",
      "2000-01-21   97.471199    0.857355\n",
      "2000-01-24   94.708679    0.818363\n",
      "2000-01-25   95.784187    0.864576\n",
      "2000-01-26   95.024994    0.848690\n",
      "2000-01-27   94.645409    0.847246\n",
      "2000-01-28   91.692978    0.782740\n",
      "2000-01-31   94.181450    0.799107\n",
      "2000-02-01   95.109352    0.772149\n",
      "2000-02-02   95.193726    0.761077\n",
      "2000-02-03   96.627693    0.795738\n",
      "2000-02-04   96.227066    0.831842\n",
      "2000-02-07   96.079422    0.878536\n",
      "2000-02-08   97.386887    0.884795\n",
      "2000-02-09   95.341301    0.867464\n",
      "2000-02-10   95.531113    0.874204\n",
      "2000-02-11   93.591026    0.837618\n",
      "2000-02-14   94.139305    0.892015\n",
      "...                ...         ...\n",
      "2020-11-18  354.767731  118.029999\n",
      "2020-11-19  356.261383  118.639999\n",
      "2020-11-20  353.821777  117.339996\n",
      "2020-11-23  355.942719  113.849998\n",
      "2020-11-24  361.678284  115.169998\n",
      "2020-11-25  361.120667  116.029999\n",
      "2020-11-27  362.126404  116.589996\n",
      "2020-11-30  360.523224  119.050003\n",
      "2020-12-01  364.466400  122.720001\n",
      "2020-12-02  365.233154  123.080002\n",
      "2020-12-03  365.133575  122.940002\n",
      "2020-12-04  368.280151  122.250000\n",
      "2020-12-07  367.523376  123.750000\n",
      "2020-12-08  368.598816  124.379997\n",
      "2020-12-09  365.292877  121.779999\n",
      "2020-12-10  365.173401  123.239998\n",
      "2020-12-11  364.745209  122.410004\n",
      "2020-12-14  363.112183  121.779999\n",
      "2020-12-15  368.021240  127.879997\n",
      "2020-12-16  368.598816  127.809998\n",
      "2020-12-17  370.660004  128.699997\n",
      "2020-12-18  369.179993  126.660004\n",
      "2020-12-21  367.859985  128.229996\n",
      "2020-12-22  367.239990  131.880005\n",
      "2020-12-23  367.570007  130.960007\n",
      "2020-12-24  369.000000  131.970001\n",
      "2020-12-28  372.170013  136.690002\n",
      "2020-12-29  371.459991  134.869995\n",
      "2020-12-30  371.989990  133.720001\n",
      "2020-12-31  373.880005  132.690002\n",
      "\n",
      "[5284 rows x 2 columns]\n"
     ]
    }
   ],
   "source": [
    "prices_all = prices_all.rename(columns={ticker[0]:'AdjClose'})\n",
    "print(prices_all)"
   ]
  },
  {
   "cell_type": "code",
   "execution_count": 9,
   "metadata": {},
   "outputs": [
    {
     "data": {
      "text/plain": [
       "array([[  0.86216921],\n",
       "       [  0.78947967],\n",
       "       [  0.80103225],\n",
       "       ...,\n",
       "       [134.86999512],\n",
       "       [133.72000122],\n",
       "       [132.69000244]])"
      ]
     },
     "execution_count": 9,
     "metadata": {},
     "output_type": "execute_result"
    }
   ],
   "source": [
    "prices_all = prices_all[['AdjClose']]\n",
    "prices_all.values"
   ]
  },
  {
   "cell_type": "code",
   "execution_count": 10,
   "metadata": {},
   "outputs": [],
   "source": [
    "stock_arry = prices_all.values\n",
    "stock_arry = stock_arry.astype('float32')"
   ]
  },
  {
   "cell_type": "code",
   "execution_count": 11,
   "metadata": {},
   "outputs": [
    {
     "data": {
      "text/plain": [
       "array([[  0.8621692 ],\n",
       "       [  0.7894797 ],\n",
       "       [  0.80103225],\n",
       "       ...,\n",
       "       [134.87      ],\n",
       "       [133.72      ],\n",
       "       [132.69      ]], dtype=float32)"
      ]
     },
     "execution_count": 11,
     "metadata": {},
     "output_type": "execute_result"
    }
   ],
   "source": [
    "stock_arry"
   ]
  },
  {
   "cell_type": "code",
   "execution_count": 12,
   "metadata": {},
   "outputs": [],
   "source": [
    "# Using MinMaxScaler to rescale data in the range of 0-to-1 \n",
    "# since Neural networks are sensitive to input data, especiallly to sigmoid /tanh activation functions\n",
    "\n",
    "scaler = MinMaxScaler(feature_range=(0, 1))\n",
    "norm_stock_arry = scaler.fit_transform(stock_arry)\n",
    "\n",
    "#featureRange_0To1 =True #Boolean value to determine if we want to use feature scale from 0 to 1\n",
    "#norm_stock_df= normalised_MinMaxScaler(stock_df,featureRange_0To1)"
   ]
  },
  {
   "cell_type": "code",
   "execution_count": 13,
   "metadata": {},
   "outputs": [
    {
     "data": {
      "text/plain": [
       "array([[0.00483605],\n",
       "       [0.00430348],\n",
       "       [0.00438812],\n",
       "       ...,\n",
       "       [0.9866654 ],\n",
       "       [0.97823983],\n",
       "       [0.97069335]], dtype=float32)"
      ]
     },
     "execution_count": 13,
     "metadata": {},
     "output_type": "execute_result"
    }
   ],
   "source": [
    "norm_stock_arry"
   ]
  },
  {
   "cell_type": "markdown",
   "metadata": {},
   "source": [
    "### Data Pre-processing"
   ]
  },
  {
   "cell_type": "code",
   "execution_count": 14,
   "metadata": {},
   "outputs": [
    {
     "name": "stdout",
     "output_type": "stream",
     "text": [
      "(3540, 1) (1744, 1)\n",
      "3540 1744\n"
     ]
    }
   ],
   "source": [
    "# Divide stock data in test and train dataframes such that 80% for traing and 20% testing\n",
    "train, test = get_train_test(norm_stock_arry,0.67)\n",
    "# The shape of the train and test sets.\n",
    "print (train.shape, test.shape)\n",
    "print(len(train), len(test))"
   ]
  },
  {
   "cell_type": "code",
   "execution_count": 15,
   "metadata": {},
   "outputs": [
    {
     "name": "stdout",
     "output_type": "stream",
     "text": [
      "[[0.00483605]\n",
      " [0.00430348]\n",
      " [0.00438812]\n",
      " ...\n",
      " [0.12703457]\n",
      " [0.11676273]\n",
      " [0.11542037]]\n",
      "******************\n",
      "[[0.1151939 ]\n",
      " [0.11538537]\n",
      " [0.11560244]\n",
      " ...\n",
      " [0.9866654 ]\n",
      " [0.97823983]\n",
      " [0.97069335]]\n"
     ]
    }
   ],
   "source": [
    "print(train)\n",
    "print(\"******************\")\n",
    "print(test)"
   ]
  },
  {
   "cell_type": "markdown",
   "metadata": {},
   "source": [
    "testing_df = pd.DataFrame([1, 2, 3, 4, 5, 6,7, 8, 9, 10, 11, 12, 13, 14, 15, 16, 17, 18, 19, 20], columns=list('P'))\n",
    "testing_array = testing_df['P'].values\n",
    "testing_array"
   ]
  },
  {
   "cell_type": "markdown",
   "metadata": {},
   "source": [
    "#Make the time  step of 30days\n",
    "R, S= add_timesteps(testing_df[['P']], testing_df.P, 3)\n",
    "print(R)\n",
    "print(S)"
   ]
  },
  {
   "cell_type": "markdown",
   "metadata": {},
   "source": [
    "L,M = create_dataset(testing_array,3)\n",
    "print(L)\n",
    "print(M)"
   ]
  },
  {
   "cell_type": "code",
   "execution_count": 16,
   "metadata": {},
   "outputs": [],
   "source": [
    "look_back = 10\n",
    "trainX, trainY = make_data_matrix(train, look_back)\n",
    "testX, testY = make_data_matrix(test, look_back)"
   ]
  },
  {
   "cell_type": "code",
   "execution_count": 17,
   "metadata": {},
   "outputs": [
    {
     "data": {
      "text/plain": [
       "(3529, 10)"
      ]
     },
     "execution_count": 17,
     "metadata": {},
     "output_type": "execute_result"
    }
   ],
   "source": [
    "trainX.shape"
   ]
  },
  {
   "cell_type": "code",
   "execution_count": 18,
   "metadata": {},
   "outputs": [
    {
     "data": {
      "text/plain": [
       "(3529,)"
      ]
     },
     "execution_count": 18,
     "metadata": {},
     "output_type": "execute_result"
    }
   ],
   "source": [
    "trainY.shape"
   ]
  },
  {
   "cell_type": "code",
   "execution_count": 19,
   "metadata": {},
   "outputs": [],
   "source": [
    "# reshape input to be [samples, time steps, features]\n",
    "trainX = np.reshape(trainX, (trainX.shape[0], 1, trainX.shape[1]))\n",
    "testX = np.reshape(testX, (testX.shape[0], 1, testX.shape[1]))"
   ]
  },
  {
   "cell_type": "code",
   "execution_count": 20,
   "metadata": {},
   "outputs": [
    {
     "data": {
      "text/plain": [
       "(3529, 1, 10)"
      ]
     },
     "execution_count": 20,
     "metadata": {},
     "output_type": "execute_result"
    }
   ],
   "source": [
    "trainX.shape"
   ]
  },
  {
   "cell_type": "code",
   "execution_count": 21,
   "metadata": {},
   "outputs": [
    {
     "data": {
      "text/plain": [
       "(3529,)"
      ]
     },
     "execution_count": 21,
     "metadata": {},
     "output_type": "execute_result"
    }
   ],
   "source": [
    "trainY.shape"
   ]
  },
  {
   "cell_type": "markdown",
   "metadata": {},
   "source": [
    "### Build LSTM Model"
   ]
  },
  {
   "cell_type": "code",
   "execution_count": 22,
   "metadata": {},
   "outputs": [
    {
     "name": "stdout",
     "output_type": "stream",
     "text": [
      "Epoch 1/100\n",
      "14/14 - 0s - loss: 0.0070\n",
      "Epoch 2/100\n",
      "14/14 - 0s - loss: 0.0050\n",
      "Epoch 3/100\n",
      "14/14 - 0s - loss: 0.0039\n",
      "Epoch 4/100\n",
      "14/14 - 0s - loss: 0.0035\n",
      "Epoch 5/100\n",
      "14/14 - 0s - loss: 0.0032\n",
      "Epoch 6/100\n",
      "14/14 - 0s - loss: 0.0030\n",
      "Epoch 7/100\n",
      "14/14 - 0s - loss: 0.0027\n",
      "Epoch 8/100\n",
      "14/14 - 0s - loss: 0.0025\n",
      "Epoch 9/100\n",
      "14/14 - 0s - loss: 0.0022\n",
      "Epoch 10/100\n",
      "14/14 - 0s - loss: 0.0019\n",
      "Epoch 11/100\n",
      "14/14 - 0s - loss: 0.0016\n",
      "Epoch 12/100\n",
      "14/14 - 0s - loss: 0.0013\n",
      "Epoch 13/100\n",
      "14/14 - 0s - loss: 0.0011\n",
      "Epoch 14/100\n",
      "14/14 - 0s - loss: 7.8862e-04\n",
      "Epoch 15/100\n",
      "14/14 - 0s - loss: 5.5667e-04\n",
      "Epoch 16/100\n",
      "14/14 - 0s - loss: 3.6451e-04\n",
      "Epoch 17/100\n",
      "14/14 - 0s - loss: 2.2151e-04\n",
      "Epoch 18/100\n",
      "14/14 - 0s - loss: 1.2564e-04\n",
      "Epoch 19/100\n",
      "14/14 - 0s - loss: 6.9586e-05\n",
      "Epoch 20/100\n",
      "14/14 - 0s - loss: 3.9893e-05\n",
      "Epoch 21/100\n",
      "14/14 - 0s - loss: 2.6895e-05\n",
      "Epoch 22/100\n",
      "14/14 - 0s - loss: 2.1806e-05\n",
      "Epoch 23/100\n",
      "14/14 - 0s - loss: 2.0179e-05\n",
      "Epoch 24/100\n",
      "14/14 - 0s - loss: 1.9619e-05\n",
      "Epoch 25/100\n",
      "14/14 - 0s - loss: 1.9399e-05\n",
      "Epoch 26/100\n",
      "14/14 - 0s - loss: 1.9220e-05\n",
      "Epoch 27/100\n",
      "14/14 - 0s - loss: 1.9063e-05\n",
      "Epoch 28/100\n",
      "14/14 - 0s - loss: 1.8903e-05\n",
      "Epoch 29/100\n",
      "14/14 - 0s - loss: 1.8761e-05\n",
      "Epoch 30/100\n",
      "14/14 - 0s - loss: 1.8585e-05\n",
      "Epoch 31/100\n",
      "14/14 - 0s - loss: 1.8423e-05\n",
      "Epoch 32/100\n",
      "14/14 - 0s - loss: 1.8276e-05\n",
      "Epoch 33/100\n",
      "14/14 - 0s - loss: 1.8115e-05\n",
      "Epoch 34/100\n",
      "14/14 - 0s - loss: 1.7946e-05\n",
      "Epoch 35/100\n",
      "14/14 - 0s - loss: 1.7785e-05\n",
      "Epoch 36/100\n",
      "14/14 - 0s - loss: 1.7617e-05\n",
      "Epoch 37/100\n",
      "14/14 - 0s - loss: 1.7475e-05\n",
      "Epoch 38/100\n",
      "14/14 - 0s - loss: 1.7277e-05\n",
      "Epoch 39/100\n",
      "14/14 - 0s - loss: 1.7102e-05\n",
      "Epoch 40/100\n",
      "14/14 - 0s - loss: 1.6938e-05\n",
      "Epoch 41/100\n",
      "14/14 - 0s - loss: 1.6768e-05\n",
      "Epoch 42/100\n",
      "14/14 - 0s - loss: 1.6609e-05\n",
      "Epoch 43/100\n",
      "14/14 - 0s - loss: 1.6444e-05\n",
      "Epoch 44/100\n",
      "14/14 - 0s - loss: 1.6258e-05\n",
      "Epoch 45/100\n",
      "14/14 - 0s - loss: 1.6094e-05\n",
      "Epoch 46/100\n",
      "14/14 - 0s - loss: 1.5911e-05\n",
      "Epoch 47/100\n",
      "14/14 - 0s - loss: 1.5740e-05\n",
      "Epoch 48/100\n",
      "14/14 - 0s - loss: 1.5572e-05\n",
      "Epoch 49/100\n",
      "14/14 - 0s - loss: 1.5413e-05\n",
      "Epoch 50/100\n",
      "14/14 - 0s - loss: 1.5260e-05\n",
      "Epoch 51/100\n",
      "14/14 - 0s - loss: 1.5111e-05\n",
      "Epoch 52/100\n",
      "14/14 - 0s - loss: 1.4902e-05\n",
      "Epoch 53/100\n",
      "14/14 - 0s - loss: 1.4741e-05\n",
      "Epoch 54/100\n",
      "14/14 - 0s - loss: 1.4581e-05\n",
      "Epoch 55/100\n",
      "14/14 - 0s - loss: 1.4409e-05\n",
      "Epoch 56/100\n",
      "14/14 - 0s - loss: 1.4221e-05\n",
      "Epoch 57/100\n",
      "14/14 - 0s - loss: 1.4067e-05\n",
      "Epoch 58/100\n",
      "14/14 - 0s - loss: 1.3872e-05\n",
      "Epoch 59/100\n",
      "14/14 - 0s - loss: 1.3714e-05\n",
      "Epoch 60/100\n",
      "14/14 - 0s - loss: 1.3540e-05\n",
      "Epoch 61/100\n",
      "14/14 - 0s - loss: 1.3375e-05\n",
      "Epoch 62/100\n",
      "14/14 - 0s - loss: 1.3214e-05\n",
      "Epoch 63/100\n",
      "14/14 - 0s - loss: 1.3051e-05\n",
      "Epoch 64/100\n",
      "14/14 - 0s - loss: 1.2896e-05\n",
      "Epoch 65/100\n",
      "14/14 - 0s - loss: 1.2741e-05\n",
      "Epoch 66/100\n",
      "14/14 - 0s - loss: 1.2582e-05\n",
      "Epoch 67/100\n",
      "14/14 - 0s - loss: 1.2424e-05\n",
      "Epoch 68/100\n",
      "14/14 - 0s - loss: 1.2255e-05\n",
      "Epoch 69/100\n",
      "14/14 - 0s - loss: 1.2098e-05\n",
      "Epoch 70/100\n",
      "14/14 - 0s - loss: 1.1922e-05\n",
      "Epoch 71/100\n",
      "14/14 - 0s - loss: 1.1771e-05\n",
      "Epoch 72/100\n",
      "14/14 - 0s - loss: 1.1625e-05\n",
      "Epoch 73/100\n",
      "14/14 - 0s - loss: 1.1480e-05\n",
      "Epoch 74/100\n",
      "14/14 - 0s - loss: 1.1318e-05\n",
      "Epoch 75/100\n",
      "14/14 - 0s - loss: 1.1183e-05\n",
      "Epoch 76/100\n",
      "14/14 - 0s - loss: 1.1043e-05\n",
      "Epoch 77/100\n",
      "14/14 - 0s - loss: 1.0867e-05\n",
      "Epoch 78/100\n",
      "14/14 - 0s - loss: 1.0728e-05\n",
      "Epoch 79/100\n",
      "14/14 - 0s - loss: 1.0584e-05\n",
      "Epoch 80/100\n",
      "14/14 - 0s - loss: 1.0446e-05\n",
      "Epoch 81/100\n",
      "14/14 - 0s - loss: 1.0295e-05\n",
      "Epoch 82/100\n",
      "14/14 - 0s - loss: 1.0161e-05\n",
      "Epoch 83/100\n",
      "14/14 - 0s - loss: 1.0028e-05\n",
      "Epoch 84/100\n",
      "14/14 - 0s - loss: 9.9038e-06\n",
      "Epoch 85/100\n",
      "14/14 - 0s - loss: 9.7447e-06\n",
      "Epoch 86/100\n",
      "14/14 - 0s - loss: 9.6272e-06\n",
      "Epoch 87/100\n",
      "14/14 - 0s - loss: 9.4858e-06\n",
      "Epoch 88/100\n",
      "14/14 - 0s - loss: 9.3888e-06\n",
      "Epoch 89/100\n",
      "14/14 - 0s - loss: 9.2495e-06\n",
      "Epoch 90/100\n",
      "14/14 - 0s - loss: 9.1051e-06\n",
      "Epoch 91/100\n",
      "14/14 - 0s - loss: 8.9844e-06\n",
      "Epoch 92/100\n",
      "14/14 - 0s - loss: 8.8639e-06\n",
      "Epoch 93/100\n",
      "14/14 - 0s - loss: 8.7344e-06\n",
      "Epoch 94/100\n",
      "14/14 - 0s - loss: 8.6276e-06\n",
      "Epoch 95/100\n",
      "14/14 - 0s - loss: 8.5251e-06\n",
      "Epoch 96/100\n",
      "14/14 - 0s - loss: 8.4083e-06\n",
      "Epoch 97/100\n",
      "14/14 - 0s - loss: 8.2764e-06\n",
      "Epoch 98/100\n",
      "14/14 - 0s - loss: 8.1723e-06\n",
      "Epoch 99/100\n",
      "14/14 - 0s - loss: 8.0719e-06\n",
      "Epoch 100/100\n",
      "14/14 - 0s - loss: 7.9584e-06\n"
     ]
    },
    {
     "data": {
      "text/plain": [
       "<tensorflow.python.keras.callbacks.History at 0x7f5adc63dfd0>"
      ]
     },
     "execution_count": 22,
     "metadata": {},
     "output_type": "execute_result"
    }
   ],
   "source": [
    "model = Sequential()\n",
    "model.add(LSTM(4, input_shape=(1, look_back)))\n",
    "model.add(Dense(1))\n",
    "model.compile(loss='mean_squared_error', optimizer='adam')\n",
    "model.fit(trainX, trainY, epochs=100, batch_size=256, verbose=2)"
   ]
  },
  {
   "cell_type": "code",
   "execution_count": 23,
   "metadata": {},
   "outputs": [],
   "source": [
    "train_predict = model.predict(trainX)\n",
    "test_predict = model.predict(testX)"
   ]
  },
  {
   "cell_type": "code",
   "execution_count": 24,
   "metadata": {},
   "outputs": [],
   "source": [
    "train_predict = scaler.inverse_transform(train_predict)\n",
    "trainY = scaler.inverse_transform([trainY])\n",
    "test_predict = scaler.inverse_transform(test_predict)\n",
    "testY = scaler.inverse_transform([testY])"
   ]
  },
  {
   "cell_type": "code",
   "execution_count": 25,
   "metadata": {},
   "outputs": [
    {
     "name": "stdout",
     "output_type": "stream",
     "text": [
      "Train Score: 0.38 RMSE\n",
      "Test Score: 5.46 RMSE\n"
     ]
    }
   ],
   "source": [
    "trainScore = math.sqrt(mean_squared_error(trainY[0], train_predict[:, 0]))\n",
    "print('Train Score: %.2f RMSE' % (trainScore))\n",
    "testScore = math.sqrt(mean_squared_error(testY[0], test_predict[:, 0]))\n",
    "print('Test Score: %.2f RMSE' % (testScore))"
   ]
  },
  {
   "cell_type": "code",
   "execution_count": 26,
   "metadata": {},
   "outputs": [],
   "source": [
    "# shift train predictions for plotting\n",
    "plot_train_predict = np.empty_like(norm_stock_arry)\n",
    "plot_train_predict[:, :] = np.nan\n",
    "plot_train_predict[look_back:len(train_predict) + look_back, :] = train_predict"
   ]
  },
  {
   "cell_type": "code",
   "execution_count": 27,
   "metadata": {},
   "outputs": [],
   "source": [
    "# shift test predictions for plotting\n",
    "plot_test_predict = np.empty_like(norm_stock_arry)\n",
    "plot_test_predict[:, :] = np.nan\n",
    "plot_test_predict[len(train_predict)+look_back*2 + 1 : len(norm_stock_arry)-1, :] = test_predict"
   ]
  },
  {
   "cell_type": "markdown",
   "metadata": {},
   "source": [
    "### Visualize the Prediction"
   ]
  },
  {
   "cell_type": "code",
   "execution_count": 28,
   "metadata": {},
   "outputs": [
    {
     "data": {
      "image/png": "[encoded data removed]",
      "text/plain": [
       "<matplotlib.figure.Figure at 0x7f5ad4236e80>"
      ]
     },
     "metadata": {
      "needs_background": "light"
     },
     "output_type": "display_data"
    }
   ],
   "source": [
    "plt.plot(prices_all['AdjClose'], label='Actual')\n",
    "plt.plot(pd.DataFrame(plot_train_predict, columns=[\"AdjClose\"], index=prices_all.index).AdjClose, label='Training')\n",
    "plt.plot(pd.DataFrame(plot_test_predict, columns=[\"AdjClose\"], index=prices_all.index).AdjClose, label='Testing')\n",
    "plt.legend(loc='best')\n",
    "plt.show()"
   ]
  },
  {
   "cell_type": "code",
   "execution_count": null,
   "metadata": {},
   "outputs": [],
   "source": []
  }
 ],
 "metadata": {
  "kernelspec": {
   "display_name": "Python 3",
   "language": "python",
   "name": "python3"
  },
  "language_info": {
   "codemirror_mode": {
    "name": "ipython",
    "version": 3
   },
   "file_extension": ".py",
   "mimetype": "text/x-python",
   "name": "python",
   "nbconvert_exporter": "python",
   "pygments_lexer": "ipython3",
   "version": "3.6.3"
  }
 },
 "nbformat": 4,
 "nbformat_minor": 2
}
